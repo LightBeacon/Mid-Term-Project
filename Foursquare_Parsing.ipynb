{
 "cells": [
  {
   "cell_type": "code",
   "execution_count": null,
   "id": "652adf63-c04b-401a-9ff8-6d9fa1ce16b7",
   "metadata": {},
   "outputs": [],
   "source": [
    "import requests as re\n",
    "import foursquare\n",
    "import os\n",
    "import numpy as np\n",
    "import pandas as pd\n",
    "pd.set_option('display.max_columns', None)\n",
    "pd.set_option('display.max_rows', None)\n",
    "import json\n",
    "#!conda install -c conda-forge geopy --yes # uncomment this line if you haven't completed the Foursquare API lab\n",
    "from geopy.geocoders import Nominatim # convert an address into latitude and longitude values\n",
    "import requests # library to handle requests\n",
    "from pandas.io.json import json_normalize # tranform JSON file into a pandas dataframe\n",
    "import matplotlib.cm as cm\n",
    "import matplotlib.colors as colors\n",
    "import folium # map rendering library"
   ]
  },
  {
   "cell_type": "code",
   "execution_count": null,
   "id": "24971697-357d-43a9-aeec-29ffd49e21fa",
   "metadata": {},
   "outputs": [],
   "source": [
    "#Open dataFrame with neighbourhoods\n",
    "df=pd.read_csv('nbhoods_new.csv')\n",
    "df.head(5)"
   ]
  },
  {
   "cell_type": "code",
   "execution_count": null,
   "id": "214bfd80-f90c-41b5-aa34-d83781d6f91d",
   "metadata": {},
   "outputs": [],
   "source": [
    "#Check neighborhoods with similar names to make sure they are correct\n",
    "df[df['Neighborhood'].str.contains('Chelsea')]"
   ]
  },
  {
   "cell_type": "code",
   "execution_count": null,
   "id": "70ec908d-7445-4d17-9a77-fa44361411a9",
   "metadata": {},
   "outputs": [],
   "source": [
    "#Check what kind of Bbox we have\n",
    "print(df['Bbox'][4])#Seemd like we cannot use it as it has repeating pairs of coordinates"
   ]
  },
  {
   "cell_type": "code",
   "execution_count": null,
   "id": "14e3b21f-f68b-4ff8-85bd-02246d1e6caf",
   "metadata": {},
   "outputs": [],
   "source": [
    "#Check names of all boroughs\n",
    "df['Borough'].unique()"
   ]
  },
  {
   "cell_type": "code",
   "execution_count": null,
   "id": "ee9cb563-1e12-4dee-aad0-b786f2f91b85",
   "metadata": {},
   "outputs": [],
   "source": [
    "print('The dataframe has {} boroughs and {} neighborhoods.'.format(\n",
    "        len(df['Borough'].unique()),\n",
    "        df.shape[0]\n",
    "    )\n",
    ")"
   ]
  },
  {
   "cell_type": "code",
   "execution_count": null,
   "id": "97aa3c18-23af-4a01-9832-f247c944ff34",
   "metadata": {},
   "outputs": [],
   "source": [
    "#Plot the neighborhoods\n",
    "address = 'New York City, NY'\n",
    "\n",
    "geolocator = Nominatim(user_agent=\"ny_explorer\")\n",
    "location = geolocator.geocode(address)\n",
    "latitude = location.latitude\n",
    "longitude = location.longitude\n",
    "print('The geograpical coordinate of New York City are {}, {}.'.format(latitude, longitude))"
   ]
  },
  {
   "cell_type": "code",
   "execution_count": null,
   "id": "f3ead703-3382-4276-a045-ec9ffb3f8793",
   "metadata": {},
   "outputs": [],
   "source": [
    "# create map of New York using latitude and longitude values\n",
    "map_newyork = folium.Map(location=[latitude, longitude], zoom_start=10)\n",
    "\n",
    "# add markers to map - IS THAT POSSIBLE TO DO AREAS INSTEAD OF POINTS?\n",
    "for lat, lng, borough, neighborhood in zip(df['Latitude'], df['Longitude'], df['Borough'], df['Neighborhood']):\n",
    "    label = '{}, {}'.format(neighborhood, borough)\n",
    "    label = folium.Popup(label, parse_html=True)\n",
    "    folium.CircleMarker(\n",
    "        [lat, lng],\n",
    "        radius=5,\n",
    "        popup=label,\n",
    "        color='blue',\n",
    "        fill=True,\n",
    "        fill_color='#3186cc',\n",
    "        fill_opacity=0.7,\n",
    "        parse_html=False).add_to(map_newyork)  \n",
    "    \n",
    "map_newyork"
   ]
  },
  {
   "cell_type": "code",
   "execution_count": null,
   "id": "2f01edb2-9684-48b1-a076-5a349cb37cb1",
   "metadata": {
    "tags": []
   },
   "outputs": [],
   "source": [
    "#Set up Foursquare - paste credentials\n",
    "CLIENT_ID = FOURSQUARE_CLIENT_ID \n",
    "CLIENT_SECRET = FOURSQUARE_CLIENT_SECRET\n",
    "VERSION = '20180605' # Foursquare API version\n",
    "\n",
    "print('Your credentails:')\n",
    "print('CLIENT_ID: ' + CLIENT_ID)\n",
    "print('CLIENT_SECRET:' + CLIENT_SECRET)"
   ]
  },
  {
   "cell_type": "code",
   "execution_count": null,
   "id": "542a5c5f-6d3a-4beb-998d-5aa305874e91",
   "metadata": {
    "tags": []
   },
   "outputs": [],
   "source": [
    "#Get data for MANHATTAN\n",
    "manhattan_data=df.loc[df['Borough']=='Manhattan'].copy()"
   ]
  },
  {
   "cell_type": "code",
   "execution_count": null,
   "id": "3fbc71d2-ceb5-463e-9570-a0e30af3a861",
   "metadata": {
    "tags": []
   },
   "outputs": [],
   "source": [
    "manhattan_data"
   ]
  },
  {
   "cell_type": "code",
   "execution_count": null,
   "id": "deabb91b-ac58-4f51-927a-7bd8666a0327",
   "metadata": {},
   "outputs": [],
   "source": [
    "manhattan_data=manhattan_data.reset_index(drop=True)"
   ]
  },
  {
   "cell_type": "code",
   "execution_count": null,
   "id": "17ece5b6-a036-4713-ba69-8dd017dda716",
   "metadata": {},
   "outputs": [],
   "source": [
    "manhattan_data.loc[0, 'Latitude'] "
   ]
  },
  {
   "cell_type": "code",
   "execution_count": null,
   "id": "d5667ced-e6d8-4d9e-aae9-b5f55978ee18",
   "metadata": {
    "tags": []
   },
   "outputs": [],
   "source": [
    "#Define variables for the function\n",
    "neighborhood_latitude = manhattan_data.loc[0, 'Latitude'] # neighborhood latitude value\n",
    "neighborhood_longitude = manhattan_data.loc[0, 'Longitude'] # neighborhood longitude value\n",
    "\n",
    "neighborhood_name = manhattan_data.loc[0, 'Neighborhood'] # neighborhood name\n",
    "\n",
    "print('Latitude and longitude values of {} are {}, {}.'.format(neighborhood_name, \n",
    "                                                               neighborhood_latitude, \n",
    "                                                               neighborhood_longitude))"
   ]
  },
  {
   "cell_type": "code",
   "execution_count": null,
   "id": "8b12b5d4-dece-4714-9f16-1e0e815ca5cb",
   "metadata": {},
   "outputs": [],
   "source": [
    "#Define parameters for the function\n",
    "radius = 908 # define radius\n",
    "LIMIT = 100 # limit of number of venues returned by Foursquare API\n",
    "url = 'https://api.foursquare.com/v2/venues/explore?&client_id={}&client_secret={}&v={}&ll={},{}&radius={}&limit={}'.format(\n",
    "    CLIENT_ID, \n",
    "    CLIENT_SECRET, \n",
    "    VERSION, \n",
    "    neighborhood_latitude, \n",
    "    neighborhood_longitude, \n",
    "    radius, \n",
    "    LIMIT)\n",
    "url"
   ]
  },
  {
   "cell_type": "code",
   "execution_count": null,
   "id": "b3f5f2e7-8348-4575-82f7-69a5f6f69ec2",
   "metadata": {
    "tags": []
   },
   "outputs": [],
   "source": [
    "results = requests.get(url=url).json()\n",
    "results"
   ]
  },
  {
   "cell_type": "code",
   "execution_count": null,
   "id": "407fa65d-c256-44a3-a207-35a2667f2eef",
   "metadata": {},
   "outputs": [],
   "source": [
    "#def getNearbyVenues(names, latitudes, longitudes, radius=500):\n",
    "    '''\n",
    "    Returns the dataframe with neighborhood, venue name, venue lat, venue lon, venue category.\n",
    "\n",
    "            Parameters:\n",
    "                    names (list): string\n",
    "                    latitudes (list): float\n",
    "                    longitudes (list): float\n",
    "\n",
    "            Returns:\n",
    "                    nearby_venues (dataFrame): dataFrame\n",
    "    '''"
   ]
  },
  {
   "cell_type": "code",
   "execution_count": null,
   "id": "a1dfdcea-b572-486a-bb3f-8ef800725026",
   "metadata": {},
   "outputs": [],
   "source": [
    "def getNearbyVenues(names, latitudes, longitudes, radius=500):\n",
    "\n",
    "    venues_list=[]\n",
    "    for name, lat, lng in zip(names, latitudes, longitudes):\n",
    "#       print(name)\n",
    "            \n",
    "        # create the API request URL\n",
    "        url = 'https://api.foursquare.com/v2/venues/explore?&client_id={}&client_secret={}&v={}&ll={},{}&radius={}&limit={}'.format(\n",
    "            CLIENT_ID, \n",
    "            CLIENT_SECRET, \n",
    "            VERSION, \n",
    "            lat, \n",
    "            lng, \n",
    "            radius, \n",
    "            LIMIT)\n",
    "            \n",
    "        # make the GET request\n",
    "        results = requests.get(url).json()[\"response\"]['groups'][0]['items']\n",
    "        \n",
    "        # return only relevant information for each nearby venue\n",
    "        venues_list.append([(\n",
    "            name, \n",
    "#           lat, \n",
    "#           lng, \n",
    "            v['venue']['name'], \n",
    "            v['venue']['location']['lat'], \n",
    "            v['venue']['location']['lng'],  \n",
    "            v['venue']['categories'][0]['name']) for v in results])\n",
    "\n",
    "    nearby_venues = pd.DataFrame([item for venue_list in venues_list for item in venue_list])\n",
    "    nearby_venues.columns = ['Neighborhood', \n",
    "#                 'Neighborhood Latitude', \n",
    "#                 'Neighborhood Longitude', \n",
    "                  'Venue', \n",
    "                  'Venue Latitude', \n",
    "                  'Venue Longitude', \n",
    "                  'Venue Category']\n",
    "    \n",
    "    return(nearby_venues)"
   ]
  },
  {
   "cell_type": "code",
   "execution_count": null,
   "id": "a4c3e7c2-927a-4596-8e42-708f76c22576",
   "metadata": {
    "tags": []
   },
   "outputs": [],
   "source": [
    "#Get Manhattan data\n",
    "manhattan_venues = getNearbyVenues(names=manhattan_data['Neighborhood'],\n",
    "                                   latitudes=manhattan_data['Latitude'],\n",
    "                                   longitudes=manhattan_data['Longitude']\n",
    "                                  )"
   ]
  },
  {
   "cell_type": "code",
   "execution_count": null,
   "id": "50afaddb-f704-4d7d-9bdd-376dfbeb37bd",
   "metadata": {
    "tags": []
   },
   "outputs": [],
   "source": [
    "print(manhattan_venues.shape)\n",
    "manhattan_venues.head()"
   ]
  },
  {
   "cell_type": "code",
   "execution_count": null,
   "id": "dcbd53a9-cc82-4afc-8ac4-cdca775c4f60",
   "metadata": {
    "tags": []
   },
   "outputs": [],
   "source": [
    "#Get data for BRONX\n",
    "bronx_data=df.loc[df['Borough']=='Bronx'].copy()"
   ]
  },
  {
   "cell_type": "code",
   "execution_count": null,
   "id": "eea9b304-3c5e-4fbb-9111-8af6f2489296",
   "metadata": {
    "tags": []
   },
   "outputs": [],
   "source": [
    "bronx_data"
   ]
  },
  {
   "cell_type": "code",
   "execution_count": null,
   "id": "5697ce4b-723d-4db6-8af2-e7c3ea8b4bfa",
   "metadata": {},
   "outputs": [],
   "source": [
    "bronx_data=bronx_data.reset_index(drop=True)"
   ]
  },
  {
   "cell_type": "code",
   "execution_count": null,
   "id": "0a9469ba-e57f-4a34-b540-70fd47db2b8a",
   "metadata": {},
   "outputs": [],
   "source": [
    "bronx_data.loc[0, 'Latitude'] "
   ]
  },
  {
   "cell_type": "code",
   "execution_count": null,
   "id": "2ca9bb85-1d0b-4faa-8070-405311e33158",
   "metadata": {},
   "outputs": [],
   "source": []
  },
  {
   "cell_type": "code",
   "execution_count": null,
   "id": "1f3c3f74-b940-4526-8f72-c4c099b2a532",
   "metadata": {
    "tags": []
   },
   "outputs": [],
   "source": [
    "bronx_venues = getNearbyVenues(names=bronx_data['Neighborhood'],\n",
    "                                   latitudes=bronx_data['Latitude'],\n",
    "                                   longitudes=bronx_data['Longitude']\n",
    "                                  )"
   ]
  },
  {
   "cell_type": "code",
   "execution_count": null,
   "id": "b01b00d0-1a50-4020-918d-8705e99bbd95",
   "metadata": {
    "tags": []
   },
   "outputs": [],
   "source": [
    "print(bronx_venues.shape)\n",
    "bronx_venues.head()"
   ]
  },
  {
   "cell_type": "code",
   "execution_count": null,
   "id": "3a2500a0-95f8-4aa1-90ce-1bbdd377e03d",
   "metadata": {},
   "outputs": [],
   "source": [
    "#Get venues for Brooklyn\n",
    "brooklyn_data=df.loc[df['Borough']=='Brooklyn'].copy()"
   ]
  },
  {
   "cell_type": "code",
   "execution_count": null,
   "id": "e0083873-4dd2-4b2b-b5e8-9113588be7b5",
   "metadata": {},
   "outputs": [],
   "source": [
    "brooklyn_data=brooklyn_data.reset_index(drop=True)"
   ]
  },
  {
   "cell_type": "code",
   "execution_count": null,
   "id": "1d88aad8-105a-422b-b745-ebe64f5b1d2c",
   "metadata": {},
   "outputs": [],
   "source": [
    "brooklyn_data.loc[0, 'Latitude'] "
   ]
  },
  {
   "cell_type": "code",
   "execution_count": null,
   "id": "865c9b9c-817e-441a-9b12-56b36c601e0c",
   "metadata": {},
   "outputs": [],
   "source": []
  },
  {
   "cell_type": "code",
   "execution_count": null,
   "id": "ea1248d2-ba08-44d1-8fbb-a9c603fd1f05",
   "metadata": {
    "tags": []
   },
   "outputs": [],
   "source": [
    "brooklyn_venues = getNearbyVenues(names=brooklyn_data['Neighborhood'],\n",
    "                                   latitudes=brooklyn_data['Latitude'],\n",
    "                                   longitudes=brooklyn_data['Longitude']\n",
    "                                  )"
   ]
  },
  {
   "cell_type": "code",
   "execution_count": null,
   "id": "4b41e573-60a5-4d3f-9ae1-d2c0dd26b1bb",
   "metadata": {
    "tags": []
   },
   "outputs": [],
   "source": [
    "print(brooklyn_venues.shape)\n",
    "brooklyn_venues.head()"
   ]
  },
  {
   "cell_type": "code",
   "execution_count": null,
   "id": "9b7465f9-f77f-44fb-8161-ea001647cfad",
   "metadata": {},
   "outputs": [],
   "source": [
    "#Get venues for Queens\n",
    "queens_data=df.loc[df['Borough']=='Queens'].copy()"
   ]
  },
  {
   "cell_type": "code",
   "execution_count": null,
   "id": "4303ec82-2388-41d5-8601-89d6985e3e01",
   "metadata": {},
   "outputs": [],
   "source": [
    "queens_data=queens_data.reset_index(drop=True)"
   ]
  },
  {
   "cell_type": "code",
   "execution_count": null,
   "id": "74e92c95-6ed3-47a2-94ff-1445b6ca9107",
   "metadata": {},
   "outputs": [],
   "source": [
    "queens_data.loc[0, 'Latitude'] "
   ]
  },
  {
   "cell_type": "code",
   "execution_count": null,
   "id": "54dba79c-1e9e-4aaf-bae9-a250aea82e88",
   "metadata": {
    "tags": []
   },
   "outputs": [],
   "source": [
    "queens_venues = getNearbyVenues(names=queens_data['Neighborhood'],\n",
    "                                   latitudes=queens_data['Latitude'],\n",
    "                                   longitudes=queens_data['Longitude']\n",
    "                                  )"
   ]
  },
  {
   "cell_type": "code",
   "execution_count": null,
   "id": "064eb1d0-7f15-4fd0-89e2-3fa847b31d82",
   "metadata": {
    "tags": []
   },
   "outputs": [],
   "source": [
    "print(queens_venues.shape)\n",
    "queens_venues.head()"
   ]
  },
  {
   "cell_type": "code",
   "execution_count": null,
   "id": "efb21e4b-0cec-4ba6-bf36-0e415f68e218",
   "metadata": {},
   "outputs": [],
   "source": [
    "#Get venues for Staten Island\n",
    "staten_island_data=df.loc[df['Borough']=='Staten Island'].copy()"
   ]
  },
  {
   "cell_type": "code",
   "execution_count": null,
   "id": "e436cf69-8e98-4527-80ad-cd6455571282",
   "metadata": {},
   "outputs": [],
   "source": [
    "staten_island_data=staten_island_data.reset_index(drop=True)"
   ]
  },
  {
   "cell_type": "code",
   "execution_count": null,
   "id": "01b0b094-9403-41da-9d87-6bbe0d8d7ef3",
   "metadata": {},
   "outputs": [],
   "source": [
    "staten_island_data.loc[0, 'Latitude'] "
   ]
  },
  {
   "cell_type": "code",
   "execution_count": null,
   "id": "4aae8dfe-53f4-47e5-a23a-063c0799f244",
   "metadata": {
    "tags": []
   },
   "outputs": [],
   "source": [
    "staten_island_venues = getNearbyVenues(names=staten_island_data['Neighborhood'],\n",
    "                                   latitudes=staten_island_data['Latitude'],\n",
    "                                   longitudes=staten_island_data['Longitude']\n",
    "                                  )"
   ]
  },
  {
   "cell_type": "code",
   "execution_count": null,
   "id": "157afe5d-2297-4fae-9e9b-85c01b6dbb1b",
   "metadata": {
    "tags": []
   },
   "outputs": [],
   "source": [
    "print(staten_island_venues.shape)\n",
    "staten_island_venues.head()"
   ]
  },
  {
   "cell_type": "code",
   "execution_count": null,
   "id": "8b3d5674-d01e-4aae-bb8b-8eb016757732",
   "metadata": {},
   "outputs": [],
   "source": [
    "#Create dataframe for all neighborhoods\n",
    "foursquare_venues_new=pd.concat([manhattan_venues, brooklyn_venues, bronx_venues, queens_venues, staten_island_venues], axis=0, ignore_index=True)"
   ]
  },
  {
   "cell_type": "code",
   "execution_count": null,
   "id": "693bad43-101d-471f-9424-4177fe1bbcf4",
   "metadata": {
    "tags": []
   },
   "outputs": [],
   "source": [
    "#Check 'tricky' neighborhoods just in case\n",
    "foursquare_venues_new[foursquare_venues_new['Neighborhood'].str.contains('Chelsea')]"
   ]
  },
  {
   "cell_type": "code",
   "execution_count": null,
   "id": "61fffe70-7089-4234-a020-d368f3e10b24",
   "metadata": {},
   "outputs": [],
   "source": [
    "#Write parsed data to the file to share with the team\n",
    "foursquare_venues_new.to_csv('foursquare_venues_new.csv')"
   ]
  }
 ],
 "metadata": {
  "kernelspec": {
   "display_name": "Python 3",
   "language": "python",
   "name": "python3"
  },
  "language_info": {
   "codemirror_mode": {
    "name": "ipython",
    "version": 3
   },
   "file_extension": ".py",
   "mimetype": "text/x-python",
   "name": "python",
   "nbconvert_exporter": "python",
   "pygments_lexer": "ipython3",
   "version": "3.8.11"
  }
 },
 "nbformat": 4,
 "nbformat_minor": 5
}
